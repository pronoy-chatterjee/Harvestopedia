{
 "cells": [
  {
   "cell_type": "markdown",
   "metadata": {},
   "source": [
    "## Necessary Imports"
   ]
  },
  {
   "cell_type": "code",
   "execution_count": 2,
   "metadata": {},
   "outputs": [],
   "source": [
    "# Necessary imports\n",
    "import os\n",
    "import numpy as np\n",
    "from tensorflow.keras.preprocessing.image import img_to_array, load_img\n",
    "from tensorflow.keras.applications.mobilenet_v2 import preprocess_input\n",
    "from sklearn.model_selection import train_test_split\n",
    "from tensorflow.keras.applications import MobileNetV2\n",
    "from sklearn.preprocessing import LabelEncoder\n",
    "from keras.callbacks import ModelCheckpoint\n",
    "import tensorflow as tf\n",
    "from tensorflow.keras.models import Sequential\n",
    "from tensorflow.keras.layers import Dense, Flatten, Dropout, AveragePooling2D, Input\n",
    "from keras.utils import np_utils\n",
    "import pickle\n",
    "from sklearn.metrics import classification_report\n",
    "import matplotlib.pyplot as plt\n",
    "import warnings\n",
    "warnings.filterwarnings(\"ignore\")"
   ]
  },
  {
   "cell_type": "markdown",
   "metadata": {},
   "source": [
    "## Data Reading and Preprocessing"
   ]
  },
  {
   "cell_type": "code",
   "execution_count": 3,
   "metadata": {},
   "outputs": [],
   "source": [
    "# Function to preprocess every image before feeding to the model\n",
    "def preprocess_image(image):\n",
    "    try:\n",
    "        image = img_to_array(image)\n",
    "        image = preprocess_input(image)\n",
    "        return image\n",
    "    except Exception as e:\n",
    "        print(\"Exception:\", e)"
   ]
  },
  {
   "cell_type": "code",
   "execution_count": 4,
   "metadata": {},
   "outputs": [
    {
     "data": {
      "text/plain": [
       "['Apple___Apple_scab',\n",
       " 'Apple___Black_rot',\n",
       " 'Apple___Cedar_apple_rust',\n",
       " 'Apple___healthy',\n",
       " 'Blueberry___healthy',\n",
       " 'Cherry_(including_sour)___healthy',\n",
       " 'Cherry_(including_sour)___Powdery_mildew',\n",
       " 'Corn_(maize)___Cercospora_leaf_spot Gray_leaf_spot',\n",
       " 'Corn_(maize)___Common_rust_',\n",
       " 'Corn_(maize)___healthy',\n",
       " 'Corn_(maize)___Northern_Leaf_Blight',\n",
       " 'Grape___Black_rot',\n",
       " 'Grape___Esca_(Black_Measles)',\n",
       " 'Grape___healthy',\n",
       " 'Grape___Leaf_blight_(Isariopsis_Leaf_Spot)',\n",
       " 'Orange___Haunglongbing_(Citrus_greening)',\n",
       " 'Peach___Bacterial_spot',\n",
       " 'Peach___healthy',\n",
       " 'Pepper,_bell___Bacterial_spot',\n",
       " 'Pepper,_bell___healthy',\n",
       " 'Potato___Early_blight',\n",
       " 'Potato___healthy',\n",
       " 'Potato___Late_blight',\n",
       " 'Raspberry___healthy',\n",
       " 'Soybean___healthy',\n",
       " 'Squash___Powdery_mildew',\n",
       " 'Strawberry___healthy',\n",
       " 'Strawberry___Leaf_scorch',\n",
       " 'Tomato___Bacterial_spot',\n",
       " 'Tomato___Early_blight',\n",
       " 'Tomato___healthy',\n",
       " 'Tomato___Late_blight',\n",
       " 'Tomato___Leaf_Mold',\n",
       " 'Tomato___Septoria_leaf_spot',\n",
       " 'Tomato___Spider_mites Two-spotted_spider_mite',\n",
       " 'Tomato___Target_Spot',\n",
       " 'Tomato___Tomato_mosaic_virus',\n",
       " 'Tomato___Tomato_Yellow_Leaf_Curl_Virus']"
      ]
     },
     "execution_count": 4,
     "metadata": {},
     "output_type": "execute_result"
    }
   ],
   "source": [
    "# Identify different disease categories\n",
    "DATASET_DIRECTORY = \"../datasets/plant_diseases_dataset/\"\n",
    "data_set = DATASET_DIRECTORY+\"train/\"\n",
    "test_set = DATASET_DIRECTORY+\"test/\"\n",
    "categories = os.listdir(data_set)\n",
    "categories"
   ]
  },
  {
   "cell_type": "code",
   "execution_count": 5,
   "metadata": {},
   "outputs": [],
   "source": [
    "# Pre-processing and preparing the training and validation data\n",
    "data = []\n",
    "label = []\n",
    "test_data = []\n",
    "test_label = []\n",
    "\n",
    "for category in categories:\n",
    "    data_path = os.path.join(data_set, category)\n",
    "    for image in os.listdir(data_path):\n",
    "        image_path = os.path.join(data_path, image)\n",
    "        image = load_img(image_path, target_size=(224, 224))\n",
    "        data.append(preprocess_image(image))\n",
    "        label.append(category)\n",
    "\n",
    "for image in os.listdir(test_set):\n",
    "    image_path = os.path.join(test_set, image)\n",
    "    image = load_img(image_path, target_size=(224, 224))\n",
    "    test_data.append(preprocess_image(image))"
   ]
  },
  {
   "cell_type": "code",
   "execution_count": 6,
   "metadata": {},
   "outputs": [],
   "source": [
    "data = np.array(data, dtype=\"float32\")\n",
    "# Encoding the label data\n",
    "encoder = LabelEncoder()\n",
    "label = encoder.fit_transform(label)\n",
    "# Transforming to array of categorical data\n",
    "label = np_utils.to_categorical(label)\n",
    "# Storing the mapping data\n",
    "le_name_mapping = dict(zip(encoder.classes_, encoder.transform(encoder.classes_)))\n",
    "with open('../models/plant_disease_mappings_data.p', 'wb') as fp:\n",
    "    pickle.dump(le_name_mapping, fp, protocol=pickle.HIGHEST_PROTOCOL)"
   ]
  },
  {
   "cell_type": "code",
   "execution_count": 7,
   "metadata": {},
   "outputs": [],
   "source": [
    "# Performing train test split\n",
    "X_train, X_test, y_train, y_test = train_test_split(data, label, test_size = 0.2, random_state = 100)"
   ]
  },
  {
   "cell_type": "markdown",
   "metadata": {},
   "source": [
    "## Model Building"
   ]
  },
  {
   "cell_type": "code",
   "execution_count": 8,
   "metadata": {},
   "outputs": [
    {
     "name": "stdout",
     "output_type": "stream",
     "text": [
      "WARNING:tensorflow:`input_shape` is undefined or non-square, or `rows` is not in [96, 128, 160, 192, 224]. Weights for input shape (224, 224) will be loaded as the default.\n"
     ]
    }
   ],
   "source": [
    "base_model = MobileNetV2(weights=\"imagenet\", include_top=False, input_tensor=Input(shape=(224, 224, 3)))\n",
    "for layer in base_model.layers:\n",
    "    layer.trainable = False\n",
    "\n",
    "main_model = Sequential([base_model,\n",
    "                AveragePooling2D(pool_size=(7, 7)),\n",
    "                Flatten(),\n",
    "                Dense(128, activation=\"relu\"),\n",
    "                Dropout(0.5),\n",
    "                Dense(38, activation=\"softmax\")])"
   ]
  },
  {
   "cell_type": "code",
   "execution_count": 9,
   "metadata": {},
   "outputs": [],
   "source": [
    "# Model compilation\n",
    "main_model.compile(loss=\"categorical_crossentropy\", optimizer=\"adam\", metrics=['accuracy'])"
   ]
  },
  {
   "cell_type": "code",
   "execution_count": 10,
   "metadata": {},
   "outputs": [
    {
     "name": "stdout",
     "output_type": "stream",
     "text": [
      "Epoch 1/20\n",
      "76/76 [==============================] - 124s 1s/step - loss: 3.3906 - accuracy: 0.1439 - val_loss: 1.8135 - val_accuracy: 0.6299\n",
      "INFO:tensorflow:Assets written to: model-001.model\\assets\n",
      "Epoch 2/20\n",
      "76/76 [==============================] - 108s 1s/step - loss: 1.8273 - accuracy: 0.5038 - val_loss: 1.0421 - val_accuracy: 0.7812\n",
      "INFO:tensorflow:Assets written to: model-002.model\\assets\n",
      "Epoch 3/20\n",
      "76/76 [==============================] - 98s 1s/step - loss: 1.2561 - accuracy: 0.6415 - val_loss: 0.7293 - val_accuracy: 0.8289\n",
      "INFO:tensorflow:Assets written to: model-003.model\\assets\n",
      "Epoch 4/20\n",
      "76/76 [==============================] - 97s 1s/step - loss: 0.9718 - accuracy: 0.7282 - val_loss: 0.6177 - val_accuracy: 0.8668\n",
      "INFO:tensorflow:Assets written to: model-004.model\\assets\n",
      "Epoch 5/20\n",
      "76/76 [==============================] - 96s 1s/step - loss: 0.7413 - accuracy: 0.7763 - val_loss: 0.5392 - val_accuracy: 0.8618\n",
      "INFO:tensorflow:Assets written to: model-005.model\\assets\n",
      "Epoch 6/20\n",
      "76/76 [==============================] - 109s 1s/step - loss: 0.6487 - accuracy: 0.8246 - val_loss: 0.4912 - val_accuracy: 0.8717\n",
      "INFO:tensorflow:Assets written to: model-006.model\\assets\n",
      "Epoch 7/20\n",
      "76/76 [==============================] - 109s 1s/step - loss: 0.5850 - accuracy: 0.8220 - val_loss: 0.4592 - val_accuracy: 0.8701\n",
      "INFO:tensorflow:Assets written to: model-007.model\\assets\n",
      "Epoch 8/20\n",
      "76/76 [==============================] - 108s 1s/step - loss: 0.5227 - accuracy: 0.8625 - val_loss: 0.4291 - val_accuracy: 0.8898\n",
      "INFO:tensorflow:Assets written to: model-008.model\\assets\n",
      "Epoch 9/20\n",
      "76/76 [==============================] - 111s 1s/step - loss: 0.4386 - accuracy: 0.8770 - val_loss: 0.3766 - val_accuracy: 0.8947\n",
      "INFO:tensorflow:Assets written to: model-009.model\\assets\n",
      "Epoch 10/20\n",
      "76/76 [==============================] - 110s 1s/step - loss: 0.4294 - accuracy: 0.8714 - val_loss: 0.3905 - val_accuracy: 0.8766\n",
      "Epoch 11/20\n",
      "76/76 [==============================] - 110s 1s/step - loss: 0.3831 - accuracy: 0.8915 - val_loss: 0.3530 - val_accuracy: 0.8865\n",
      "INFO:tensorflow:Assets written to: model-011.model\\assets\n",
      "Epoch 12/20\n",
      "76/76 [==============================] - 109s 1s/step - loss: 0.3411 - accuracy: 0.8968 - val_loss: 0.3342 - val_accuracy: 0.9030\n",
      "INFO:tensorflow:Assets written to: model-012.model\\assets\n",
      "Epoch 13/20\n",
      "76/76 [==============================] - 103s 1s/step - loss: 0.3265 - accuracy: 0.9061 - val_loss: 0.3580 - val_accuracy: 0.8914\n",
      "Epoch 14/20\n",
      "76/76 [==============================] - 92s 1s/step - loss: 0.2724 - accuracy: 0.9234 - val_loss: 0.3410 - val_accuracy: 0.8931\n",
      "Epoch 15/20\n",
      "76/76 [==============================] - 101s 1s/step - loss: 0.2648 - accuracy: 0.9259 - val_loss: 0.3227 - val_accuracy: 0.9013\n",
      "INFO:tensorflow:Assets written to: model-015.model\\assets\n",
      "Epoch 16/20\n",
      "76/76 [==============================] - 102s 1s/step - loss: 0.2389 - accuracy: 0.9328 - val_loss: 0.3257 - val_accuracy: 0.8980\n",
      "Epoch 17/20\n",
      "76/76 [==============================] - 107s 1s/step - loss: 0.2216 - accuracy: 0.9445 - val_loss: 0.3157 - val_accuracy: 0.9046\n",
      "INFO:tensorflow:Assets written to: model-017.model\\assets\n",
      "Epoch 18/20\n",
      "76/76 [==============================] - 107s 1s/step - loss: 0.2084 - accuracy: 0.9426 - val_loss: 0.3177 - val_accuracy: 0.9046\n",
      "Epoch 19/20\n",
      "76/76 [==============================] - 108s 1s/step - loss: 0.1871 - accuracy: 0.9437 - val_loss: 0.3047 - val_accuracy: 0.9030\n",
      "INFO:tensorflow:Assets written to: model-019.model\\assets\n",
      "Epoch 20/20\n",
      "76/76 [==============================] - 106s 1s/step - loss: 0.1858 - accuracy: 0.9446 - val_loss: 0.3071 - val_accuracy: 0.9046\n"
     ]
    }
   ],
   "source": [
    "# Model training and validation\n",
    "checkpoint = ModelCheckpoint('model-{epoch:03d}.model', monitor='val_loss', verbose=0, save_best_only=True, mode='auto')\n",
    "hist = main_model.fit(X_train, y_train, epochs=20, callbacks=[checkpoint], validation_split=0.2)"
   ]
  },
  {
   "cell_type": "code",
   "execution_count": 19,
   "metadata": {},
   "outputs": [
    {
     "name": "stdout",
     "output_type": "stream",
     "text": [
      "              precision    recall  f1-score   support\n",
      "\n",
      "           0       0.78      0.93      0.85        15\n",
      "           1       1.00      1.00      1.00        17\n",
      "           2       1.00      0.94      0.97        17\n",
      "           3       0.96      1.00      0.98        24\n",
      "           4       0.95      0.95      0.95        20\n",
      "           5       1.00      0.96      0.98        23\n",
      "           6       1.00      0.95      0.98        21\n",
      "           7       0.86      0.76      0.81        25\n",
      "           8       0.94      1.00      0.97        15\n",
      "           9       0.78      0.88      0.82        24\n",
      "          10       1.00      1.00      1.00        26\n",
      "          11       0.83      0.88      0.86        17\n",
      "          12       0.93      0.89      0.91        28\n",
      "          13       1.00      1.00      1.00        17\n",
      "          14       0.95      1.00      0.97        18\n",
      "          15       0.82      1.00      0.90        14\n",
      "          16       1.00      0.95      0.98        21\n",
      "          17       1.00      1.00      1.00        15\n",
      "          18       0.89      0.94      0.91        17\n",
      "          19       1.00      0.89      0.94        19\n",
      "          20       1.00      1.00      1.00        14\n",
      "          21       0.94      0.71      0.81        24\n",
      "          22       0.80      1.00      0.89        20\n",
      "          23       1.00      1.00      1.00        27\n",
      "          24       1.00      0.94      0.97        17\n",
      "          25       1.00      0.96      0.98        23\n",
      "          26       1.00      0.91      0.95        23\n",
      "          27       1.00      0.92      0.96        26\n",
      "          28       0.84      0.91      0.87        23\n",
      "          29       0.65      0.72      0.68        18\n",
      "          30       0.75      0.60      0.67        20\n",
      "          31       0.93      0.87      0.90        15\n",
      "          32       0.75      0.64      0.69        14\n",
      "          33       0.88      0.70      0.78        20\n",
      "          34       0.72      0.95      0.82        19\n",
      "          35       1.00      0.90      0.95        21\n",
      "          36       0.82      1.00      0.90        23\n",
      "          37       0.90      0.95      0.93        20\n",
      "\n",
      "    accuracy                           0.91       760\n",
      "   macro avg       0.91      0.91      0.91       760\n",
      "weighted avg       0.92      0.91      0.91       760\n",
      "\n"
     ]
    }
   ],
   "source": [
    "# Model testing and Evaluation\n",
    "y_pred_idx = main_model.predict(X_test)\n",
    "y_pred = np.argmax(y_pred_idx, axis=1)\n",
    "print(classification_report(np.argmax(y_test, axis=1), y_pred))"
   ]
  },
  {
   "cell_type": "code",
   "execution_count": 20,
   "metadata": {},
   "outputs": [
    {
     "data": {
      "image/png": "[encoded data removed]",
      "text/plain": [
       "<Figure size 432x288 with 1 Axes>"
      ]
     },
     "metadata": {},
     "output_type": "display_data"
    }
   ],
   "source": [
    "plt.figure()\n",
    "plt.plot(hist.history['loss'], 'r', label='training loss')\n",
    "plt.plot(hist.history['val_loss'], label='validation loss')\n",
    "plt.plot(hist.history['accuracy'], 'r', label='training accuracy')\n",
    "plt.plot(hist.history['val_accuracy'], label='validation accuracy')\n",
    "plt.xlabel('# Epochs')\n",
    "plt.ylabel('Loss/Accuracy')\n",
    "plt.title(\"Training Loss and Accuracy\")\n",
    "plt.legend()\n",
    "plt.show()"
   ]
  }
 ],
 "metadata": {
  "kernelspec": {
   "display_name": "Python 3",
   "language": "python",
   "name": "python3"
  },
  "language_info": {
   "codemirror_mode": {
    "name": "ipython",
    "version": 3
   },
   "file_extension": ".py",
   "mimetype": "text/x-python",
   "name": "python",
   "nbconvert_exporter": "python",
   "pygments_lexer": "ipython3",
   "version": "3.6.5"
  }
 },
 "nbformat": 4,
 "nbformat_minor": 2
}
